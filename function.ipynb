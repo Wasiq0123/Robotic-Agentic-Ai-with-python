{
  "nbformat": 4,
  "nbformat_minor": 0,
  "metadata": {
    "colab": {
      "provenance": []
    },
    "kernelspec": {
      "name": "python3",
      "display_name": "Python 3"
    },
    "language_info": {
      "name": "python"
    }
  },
  "cells": [
    {
      "cell_type": "markdown",
      "source": [
        "Function\n",
        "Function are Denfinie By  fun_name()://piece of code\n",
        "\n",
        "why Function need .\n",
        "A pieace of code Reapet again and again So,we use function.\n",
        "2 types of fucntion\n",
        "1)Parameterized Function\n",
        "2)Parameterless Function\n"
      ],
      "metadata": {
        "id": "-ShwRMaHawAk"
      }
    },
    {
      "cell_type": "code",
      "source": [
        "'''This Example Show name  varible and input reapaet again and again So we use function'''\n",
        "name_1:str=input('Enter the name')\n",
        "print(name_1)\n",
        "name_2:str=input('Enter the name')\n",
        "print(name_2)\n",
        "name_3:str=input('Enter the name')\n",
        "print(name_3)\n",
        "name_4:str=input('Enter the name')\n",
        "\n",
        "\n"
      ],
      "metadata": {
        "id": "fx78M0PSbYwk"
      },
      "execution_count": null,
      "outputs": []
    },
    {
      "cell_type": "code",
      "source": [
        "'''Function'''\n",
        "'''This Exmaple May help we only call the function name and i use Mulitiple time every where i need it '''\n",
        "def func_name():\n",
        "\n",
        " name:str=input('Enter the name :')\n",
        " print(f'My Name is {name}')\n",
        "\n",
        "func_name()\n",
        "\n",
        "\n",
        "def print_number():\n",
        "    a : int = int(input(\"Enter a value\"))\n",
        "    print(f\"User gave the number {a}\")\n"
      ],
      "metadata": {
        "colab": {
          "base_uri": "https://localhost:8080/"
        },
        "id": "awVyrwrscflN",
        "outputId": "0ce5a25b-8b77-4741-b995-dccb0574f149"
      },
      "execution_count": 11,
      "outputs": [
        {
          "output_type": "stream",
          "name": "stdout",
          "text": [
            "Enter the name :wasiq\n",
            "My Name is wasiq\n"
          ]
        }
      ]
    },
    {
      "cell_type": "code",
      "source": [
        "'''So we learn the Function how i define .We are More Dicuss about parameterless and Parameterized function in this Section'''\n",
        "\n",
        "def func_name():\n",
        "  print('This is Parameterless function')\n",
        "\n",
        "# we used the fuction by name we call only name and with function bracees\n",
        "func_name()\n",
        "\n",
        "#-----Paremetrized Function--------------\n",
        "\n",
        "def func_parameter(name):\n",
        "  print(f'This is parameterized Function and My name is{name}')\n",
        "\n",
        "func_parameter('Wasiq')\n",
        "\n",
        "#-----Another Exmaple of parameterized Function------\n",
        "\n",
        "#use static Techinque mean Hard coded\n",
        "\n",
        "my_name:str='Ali'\n",
        "def func_check(name):\n",
        "  print(f'My name is {name}')\n",
        "func_check(my_name)"
      ],
      "metadata": {
        "colab": {
          "base_uri": "https://localhost:8080/"
        },
        "id": "ASE4keTreqpz",
        "outputId": "eb093d99-267d-418c-fe42-073f5c2ac4e2"
      },
      "execution_count": 17,
      "outputs": [
        {
          "output_type": "stream",
          "name": "stdout",
          "text": [
            "This is Parameterless function\n",
            "This is parameterized Function and My name isWasiq\n",
            "My name is Ali\n"
          ]
        }
      ]
    },
    {
      "cell_type": "markdown",
      "source": [
        "Whast is Arugment and Parameter\n",
        "\n",
        "Argument are define Outside of the function and it can be acessed in inside of the function\n",
        "\n",
        "Parameter are Defined inside the Function it Scope only inside the Function not Outside\n",
        "\n",
        "\n",
        "\n"
      ],
      "metadata": {
        "id": "AnqyIVpSmBV0"
      }
    },
    {
      "cell_type": "code",
      "source": [
        "'''We Learn Function with Return Statement '''\n",
        "def func_add(first_num:int,second_num:int)->int:\n",
        "  result=first_num+second_num\n",
        "\n",
        "\n",
        "  # The Return Statement work for Ouput what the function perform\n",
        "  # Return is a Expression\n",
        "  return result\n",
        "\n",
        "func_add(10,10)"
      ],
      "metadata": {
        "colab": {
          "base_uri": "https://localhost:8080/"
        },
        "id": "PPF8I4MWmAqg",
        "outputId": "c6abde20-1415-412f-b9b5-3c296fd2a1ea"
      },
      "execution_count": 29,
      "outputs": [
        {
          "output_type": "execute_result",
          "data": {
            "text/plain": [
              "(20, 100)"
            ]
          },
          "metadata": {},
          "execution_count": 29
        }
      ]
    },
    {
      "cell_type": "code",
      "source": [
        "'''Without Return Expression'''\n",
        "'''This Exmaple ->int|None Result is Integer mean return integer and none mean if they not meet the condition return none '''\n",
        "def fun_add(first_num:int,seconf_num:int)->int|None:\n",
        "  if first_num>0 and seconf_num>0:\n",
        "    reult:int=first_num+seconf_num\n",
        "    return reult\n",
        "\n",
        "fun_add(10,10)"
      ],
      "metadata": {
        "colab": {
          "base_uri": "https://localhost:8080/"
        },
        "id": "09P59Ho7rjbS",
        "outputId": "0b13865a-68b4-4461-bed4-02e2f58fe223"
      },
      "execution_count": 25,
      "outputs": [
        {
          "output_type": "execute_result",
          "data": {
            "text/plain": [
              "20"
            ]
          },
          "metadata": {},
          "execution_count": 25
        }
      ]
    },
    {
      "cell_type": "code",
      "source": [
        "#Note :Function Return Only Sigle value\n",
        "'''In this Expale We are Returning a tuple '''\n",
        "def func_tup(first_num:int,seconf_num:int)->tuple[int,int]:\n",
        "  multi_res=first_num*seconf_num\n",
        "  add_res=first_num+seconf_num\n",
        "  return multi_res,add_res\n",
        "\n",
        "# So, In this Exmaple we are returning 2 value One is  multiplication and Second is Addition But Carefully we Return not integer i rtuen tuple\n",
        "func_tup(5,5)\n"
      ],
      "metadata": {
        "colab": {
          "base_uri": "https://localhost:8080/"
        },
        "id": "3bVY5JbzvBFQ",
        "outputId": "b3dc43a6-0b8a-4ac5-e1ba-ff35cf0c4e01"
      },
      "execution_count": 28,
      "outputs": [
        {
          "output_type": "stream",
          "name": "stdout",
          "text": [
            "<class 'tuple'>\n"
          ]
        }
      ]
    },
    {
      "cell_type": "code",
      "source": [
        "#Returning the Dixtinory\n",
        "def func_ditn(name,address,city)->dict[str,str]:\n",
        " return {\n",
        "    \"name\":name,\n",
        "    \"address\":address,\n",
        "    \"city\":city\n",
        " }\n",
        "func_ditn('WAsiq','Daman','Attock')\n"
      ],
      "metadata": {
        "colab": {
          "base_uri": "https://localhost:8080/"
        },
        "id": "Vz6qQoNfyXj3",
        "outputId": "40369f93-5e7c-43cb-bd3f-9f37df599a5b"
      },
      "execution_count": 30,
      "outputs": [
        {
          "output_type": "execute_result",
          "data": {
            "text/plain": [
              "{'name': 'WAsiq', 'address': 'Daman', 'city': 'Attock'}"
            ]
          },
          "metadata": {},
          "execution_count": 30
        }
      ]
    }
  ]
}