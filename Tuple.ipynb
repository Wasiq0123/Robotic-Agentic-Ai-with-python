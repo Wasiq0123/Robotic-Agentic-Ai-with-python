{
  "nbformat": 4,
  "nbformat_minor": 0,
  "metadata": {
    "colab": {
      "provenance": [],
      "toc_visible": true
    },
    "kernelspec": {
      "name": "python3",
      "display_name": "Python 3"
    },
    "language_info": {
      "name": "python"
    }
  },
  "cells": [
    {
      "cell_type": "markdown",
      "source": [
        "\n",
        "\n",
        "---\n",
        "We are Dicuss the tuple they are immutable unlike list is mutable tey are change and modified the user.Tuple is Faster then list\n"
      ],
      "metadata": {
        "id": "iXKJjA2mK1mt"
      }
    },
    {
      "cell_type": "code",
      "execution_count": null,
      "metadata": {
        "colab": {
          "base_uri": "https://localhost:8080/"
        },
        "id": "x_26OdjSKvor",
        "outputId": "f0c078cf-868a-4735-9526-db8d201755a5"
      },
      "outputs": [
        {
          "output_type": "stream",
          "name": "stdout",
          "text": [
            "(12, 34)\n",
            "34\n"
          ]
        }
      ],
      "source": [
        "#------------Tuple -----------------\n",
        "\n",
        "'''we can amke tuple with whole braces '''\n",
        "my_data:tuple[int ,int]=(12,34)\n",
        "print(my_data)\n",
        "\n",
        "print(my_data[1])"
      ]
    },
    {
      "cell_type": "code",
      "source": [
        "#====Exmaple with String ----------\n",
        "my_data=(1,3,4,5,7)\n",
        "print(type(my_data))\n",
        "\n",
        "std_data:tuple[int]=(1,2,4,5,)\n",
        "print(std_data[3])"
      ],
      "metadata": {
        "colab": {
          "base_uri": "https://localhost:8080/"
        },
        "id": "PiGS6HIiOvUi",
        "outputId": "4d5f6a8a-95e6-43e9-c468-fe628343275e"
      },
      "execution_count": null,
      "outputs": [
        {
          "output_type": "stream",
          "name": "stdout",
          "text": [
            "<class 'tuple'>\n",
            "5\n"
          ]
        }
      ]
    },
    {
      "cell_type": "code",
      "source": [
        "my_data:tuple[str,str,str]=('Wasiq','Khan','Ali')\n",
        "print(my_data[0])"
      ],
      "metadata": {
        "colab": {
          "base_uri": "https://localhost:8080/"
        },
        "id": "xf2I-f1hSr5d",
        "outputId": "37bd0f3f-10b3-4ee8-bc60-2429ce661cab"
      },
      "execution_count": null,
      "outputs": [
        {
          "output_type": "stream",
          "name": "stdout",
          "text": [
            "Wasiq\n"
          ]
        }
      ]
    },
    {
      "cell_type": "code",
      "source": [
        "#===============Slicing  in Tuple=====================\n",
        "my_data:tuple[int]=(1,12,23,45,35,76,89,76)\n",
        "print(my_data[0:6])"
      ],
      "metadata": {
        "colab": {
          "base_uri": "https://localhost:8080/"
        },
        "id": "bAN6z9keUHAa",
        "outputId": "9c7919af-a16c-4478-b770-4fc17cb50eba"
      },
      "execution_count": null,
      "outputs": [
        {
          "output_type": "stream",
          "name": "stdout",
          "text": [
            "(1, 12, 23, 45, 35, 76)\n"
          ]
        }
      ]
    },
    {
      "cell_type": "code",
      "source": [
        "#---------------Concatenation in Tuple-------------------\n",
        "my_tuple1=(12,34,5)\n",
        "my_tuple2=(1,2,3)\n",
        "result=my_tuple1+my_tuple2\n",
        "print(result)\n",
        "\n",
        "fruit_data:tuple[str]=('Banana','Mango')\n",
        "fruit_data2:tuple[str]=('Apple','Grapes')\n",
        "result=fruit_data+fruit_data2\n",
        "print(result)\n"
      ],
      "metadata": {
        "colab": {
          "base_uri": "https://localhost:8080/"
        },
        "id": "oj8IFpHlV4Zq",
        "outputId": "485b83c6-01f9-463f-9891-63834133a3d2"
      },
      "execution_count": null,
      "outputs": [
        {
          "output_type": "stream",
          "name": "stdout",
          "text": [
            "(12, 34, 5, 1, 2, 3)\n",
            "('Banana', 'Mango', 'Apple', 'Grapes')\n"
          ]
        }
      ]
    },
    {
      "cell_type": "code",
      "source": [
        "#-------Unpacking in Tuple --------\n",
        "new_data:tuple[int]=(1,2)\n",
        "x,y=new_data\n",
        "print(x)\n",
        "print(y)"
      ],
      "metadata": {
        "colab": {
          "base_uri": "https://localhost:8080/"
        },
        "id": "DpJYpK3KX0i_",
        "outputId": "24ac1a67-824a-434c-94e9-904653b4a5b8"
      },
      "execution_count": null,
      "outputs": [
        {
          "output_type": "stream",
          "name": "stdout",
          "text": [
            "1\n",
            "2\n"
          ]
        }
      ]
    },
    {
      "cell_type": "code",
      "source": [
        "#------------------------Nested tuple----------------------------\n",
        "my_data:tuple[int]=(10,(12,34),(12,98,66,77))\n",
        "print(my_data[2][3])\n",
        "\n",
        "# Unpacking nested Tuple and concetanate\n",
        "\n",
        "x,y,z=my_data\n",
        "print(x)\n",
        "\n",
        "result=my_data\n",
        "print(result)\n"
      ],
      "metadata": {
        "colab": {
          "base_uri": "https://localhost:8080/"
        },
        "id": "7em1TphgX0LS",
        "outputId": "149ed0b3-78cf-4f65-8082-3c64e841745a"
      },
      "execution_count": null,
      "outputs": [
        {
          "output_type": "stream",
          "name": "stdout",
          "text": [
            "77\n",
            "10\n",
            "(10, (12, 34), (12, 98, 66, 77))\n"
          ]
        }
      ]
    },
    {
      "cell_type": "code",
      "source": [
        "#we are print the result it mean we are showing output without braces so,we can use itraeation they are print one by one#\n",
        "\n",
        "#-=--------Itration in Tuple ------------------------\n",
        "std_data:tuple[str]=('Wasiq','Khan','Ali','Hareem')\n",
        "print(std_data)\n",
        "\n",
        "for data in std_data:\n",
        "  print(data)\n"
      ],
      "metadata": {
        "colab": {
          "base_uri": "https://localhost:8080/"
        },
        "id": "QA9413UHbpkb",
        "outputId": "fc07522f-39b3-411c-a7cc-12d575b39e0c"
      },
      "execution_count": null,
      "outputs": [
        {
          "output_type": "stream",
          "name": "stdout",
          "text": [
            "('Wasiq', 'Khan', 'Ali', 'Hareem')\n",
            "Wasiq\n",
            "Khan\n",
            "Ali\n",
            "Hareem\n"
          ]
        }
      ]
    },
    {
      "cell_type": "code",
      "source": [
        "#--------.count() method in Tuple --------------\n",
        "my_data:tuple[str]=('Wasiq','Ali','Hareem','khan','Wasiq')\n",
        "result=my_data.count('Wasiq')\n",
        "print(result)"
      ],
      "metadata": {
        "colab": {
          "base_uri": "https://localhost:8080/"
        },
        "id": "3DXuXC71ctSV",
        "outputId": "7354c5bf-465f-4c79-fae3-aa6a1bd81aa3"
      },
      "execution_count": null,
      "outputs": [
        {
          "output_type": "stream",
          "name": "stdout",
          "text": [
            "2\n"
          ]
        }
      ]
    }
  ]
}