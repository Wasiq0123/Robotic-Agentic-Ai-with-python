{
  "nbformat": 4,
  "nbformat_minor": 0,
  "metadata": {
    "colab": {
      "provenance": []
    },
    "kernelspec": {
      "name": "python3",
      "display_name": "Python 3"
    },
    "language_info": {
      "name": "python"
    }
  },
  "cells": [
    {
      "cell_type": "code",
      "execution_count": null,
      "metadata": {
        "colab": {
          "base_uri": "https://localhost:8080/"
        },
        "id": "Fh7OMXwJ13YF",
        "outputId": "681fb15c-bf4f-4265-eeeb-e51a347769f0"
      },
      "outputs": [
        {
          "output_type": "stream",
          "name": "stdout",
          "text": [
            "wasiq khan\n",
            "wasiq khan\n"
          ]
        }
      ],
      "source": [
        "#-----String Method -------#\n",
        "#-----Cocetanate String -----#\n",
        "str1='wasiq'\n",
        "str2='khan'\n",
        "#-----This print can only print Simpele concetanet string But i need some space  b/w in 2 string\n",
        "print (str1+str2)\n",
        "\n",
        "#------In this example we lean How i concetanate and How i implement between space in 2 string\n",
        "result=str1+\" \"+str2\n",
        "print(result)\n",
        "\n"
      ]
    },
    {
      "cell_type": "code",
      "source": [
        "#---------Repetition  Method '*'--------\n",
        "\n",
        "#=======In this example, if I need any string multiple times, I can easily repeat it using the '*' sign.\n",
        "str1='Hello'\n",
        "result =str1 * 3\n",
        "print (result)\n",
        "\n",
        "\n",
        "#====if the string in based on 2 names like wasiq khan mean between space ,How can work these cases\n",
        "\n",
        "str='wasiq khan'\n",
        "result=str*4\n",
        "\n",
        "# ===In this sneorio string act as different first string on start and 2nd string in last while between output last in first first in last\n",
        "print(result)\n",
        "\n"
      ],
      "metadata": {
        "colab": {
          "base_uri": "https://localhost:8080/"
        },
        "id": "0pRoq2Bg39Lr",
        "outputId": "e41085b8-9151-4b28-d1e4-1ea3c241c891"
      },
      "execution_count": null,
      "outputs": [
        {
          "output_type": "stream",
          "name": "stdout",
          "text": [
            "HelloHelloHello\n",
            "wasiq khanwasiq khanwasiq khanwasiq khan\n"
          ]
        }
      ]
    },
    {
      "cell_type": "code",
      "source": [
        "#--------Memebership Operator------#\n",
        "#======Use of in=========\n",
        "#----if 'Khan 'in str they return bolean vanlue 'true ' and Not in str they return flase\n",
        "str ='Wasi khan'\n",
        "res = 'khan' in str\n",
        "print(res)\n",
        "\n",
        "#----if 'Khan 'not in str they return bolean vanlue 'true ' and Not in str they return flase\n",
        "#============Uses of not in===================\n",
        "result2=('khan'not in str)\n",
        "print(result2)\n",
        "\n",
        "\n",
        "#=======Memebership Operatror with list ==============\n",
        "list=['wasiq','khan','ALi']\n",
        "result='khan'in list\n",
        "print (result)\n",
        "\n",
        "result2='ALi' not in list\n",
        "print(result2)\n"
      ],
      "metadata": {
        "colab": {
          "base_uri": "https://localhost:8080/"
        },
        "id": "MU-UBvaYHqF2",
        "outputId": "00bcc6ef-7fdb-4e6c-8c74-92af8cb3ed01"
      },
      "execution_count": null,
      "outputs": [
        {
          "output_type": "stream",
          "name": "stdout",
          "text": [
            "True\n",
            "False\n",
            "True\n",
            "False\n"
          ]
        }
      ]
    },
    {
      "cell_type": "code",
      "source": [
        "#--------------------String length---------------------\n",
        "#-----------They counted the Spce -------------------\n",
        "str1='Muhammad Wasiq Khan'\n",
        "print(len(str1))\n",
        "str2='Wasiq Khan'\n",
        "print(len(str2))\n"
      ],
      "metadata": {
        "colab": {
          "base_uri": "https://localhost:8080/",
          "height": 176
        },
        "id": "xKhTGjDfKebs",
        "outputId": "50a221c7-e905-4ba2-e62a-df0e241b38ba"
      },
      "execution_count": null,
      "outputs": [
        {
          "output_type": "error",
          "ename": "TypeError",
          "evalue": "'int' object is not callable",
          "traceback": [
            "\u001b[0;31m---------------------------------------------------------------------------\u001b[0m",
            "\u001b[0;31mTypeError\u001b[0m                                 Traceback (most recent call last)",
            "\u001b[0;32m<ipython-input-41-17a04034f858>\u001b[0m in \u001b[0;36m<cell line: 5>\u001b[0;34m()\u001b[0m\n\u001b[1;32m      3\u001b[0m \u001b[0;34m\u001b[0m\u001b[0m\n\u001b[1;32m      4\u001b[0m \u001b[0mstr2\u001b[0m\u001b[0;34m=\u001b[0m\u001b[0;34m\"Wasiq Khan\"\u001b[0m\u001b[0;34m\u001b[0m\u001b[0;34m\u001b[0m\u001b[0m\n\u001b[0;32m----> 5\u001b[0;31m \u001b[0mprint\u001b[0m\u001b[0;34m(\u001b[0m\u001b[0mlen\u001b[0m\u001b[0;34m(\u001b[0m\u001b[0mstr2\u001b[0m\u001b[0;34m)\u001b[0m\u001b[0;34m)\u001b[0m\u001b[0;34m\u001b[0m\u001b[0;34m\u001b[0m\u001b[0m\n\u001b[0m",
            "\u001b[0;31mTypeError\u001b[0m: 'int' object is not callable"
          ]
        }
      ]
    },
    {
      "cell_type": "code",
      "source": [
        "#===============Idexing ====================\n",
        "\n",
        "#===========if i sart positive they are sart lef and i strt negative they start right bcz python are satrt left to right\n",
        "str1='Wasiq Khan'\n",
        "print(str1[0])\n",
        "print(str[-3])\n"
      ],
      "metadata": {
        "colab": {
          "base_uri": "https://localhost:8080/"
        },
        "id": "1ng63Szxfe9L",
        "outputId": "87fbd93c-3097-44a5-c156-295160132b42"
      },
      "execution_count": null,
      "outputs": [
        {
          "output_type": "stream",
          "name": "stdout",
          "text": [
            "W\n",
            "i\n"
          ]
        }
      ]
    },
    {
      "cell_type": "code",
      "source": [
        "#==================Slicing ===================\n",
        "#==========if the string conatain 5 chacrter user put 10 ,20 30 they count only last character of String\n",
        "str='Pakistan'\n",
        "print(str[1:10])\n",
        "\n",
        "#---------------if the String has Space in 5 index but they showing 4 index of String\n",
        "str1='Hello World'\n",
        "print(str1[1:6])\n",
        "\n",
        "#---------if i not mention i mean emapty the satrting index they are Start automaticatially zero--------------\n",
        "str2='Saudi Arabia'\n",
        "print(str2[:12])\n",
        "\n",
        "#============Same as if i not mention i mean emapty the ending index they are end automaticatially eding letter--------------\n",
        "str3='Pakistan'\n",
        "print (str3[0:])\n"
      ],
      "metadata": {
        "colab": {
          "base_uri": "https://localhost:8080/"
        },
        "id": "kwUb3G9Che1n",
        "outputId": "7b9d377f-8a43-46eb-bf8e-363c63cafd69"
      },
      "execution_count": null,
      "outputs": [
        {
          "output_type": "stream",
          "name": "stdout",
          "text": [
            "akistan\n",
            "ello \n",
            "Saudi Arabia\n",
            "Pakistan\n"
          ]
        }
      ]
    },
    {
      "cell_type": "code",
      "source": [
        "#--------String Comparson-------#\n",
        "# strig comparason return bolean value true flase -------\n",
        "\n",
        "#----------------Equal ==-----------------\n",
        "num=5\n",
        "num1=5\n",
        "print(num==num1)\n",
        "\n",
        "name=\"wasiq \"\n",
        "nam1 ='khan'\n",
        "print (name==nam1)\n",
        "\n",
        "\n",
        "my_name='Wasiq'\n",
        "my_name1='Wasiq'\n",
        "print(my_name==my_name1)"
      ],
      "metadata": {
        "colab": {
          "base_uri": "https://localhost:8080/"
        },
        "id": "MBmuwfcvuxho",
        "outputId": "db2e807b-e048-4575-c21b-7ab3941a7f47"
      },
      "execution_count": null,
      "outputs": [
        {
          "output_type": "stream",
          "name": "stdout",
          "text": [
            "True\n",
            "False\n",
            "True\n"
          ]
        }
      ]
    },
    {
      "cell_type": "code",
      "source": [
        "#--------Not Equal '!='========#\n",
        "# strig comparason return bolean value true flase -------\n",
        "\n",
        "num1=5\n",
        "num2=10\n",
        "\n",
        "print(num1!=num2)\n",
        "\n",
        "num1=int(input('Enter the number '))\n",
        "num2=int(input('Enter the number'))\n",
        "\n",
        "print (num1!=num2)\n",
        "\n",
        "\n",
        "\n"
      ],
      "metadata": {
        "colab": {
          "base_uri": "https://localhost:8080/"
        },
        "id": "mSZALt7pwODR",
        "outputId": "147fff35-9f7f-4b59-c8ec-77d162d38035"
      },
      "execution_count": null,
      "outputs": [
        {
          "output_type": "stream",
          "name": "stdout",
          "text": [
            "True\n",
            "Enter the number 10\n",
            "Enter the number10\n",
            "False\n"
          ]
        }
      ]
    },
    {
      "cell_type": "code",
      "source": [
        "#--------Less than ------!\n",
        "num1=5\n",
        "num2=10\n",
        "print(num1<num2)\n",
        "\n",
        "#----Greather than-------\n",
        "num=10\n",
        "num1=5\n",
        "print(num>num1)\n"
      ],
      "metadata": {
        "colab": {
          "base_uri": "https://localhost:8080/"
        },
        "id": "NH6TT484wgEO",
        "outputId": "3dc0831b-f67d-49df-a5a0-dc7e9f151e30"
      },
      "execution_count": null,
      "outputs": [
        {
          "output_type": "stream",
          "name": "stdout",
          "text": [
            "True\n",
            "True\n"
          ]
        }
      ]
    },
    {
      "cell_type": "code",
      "source": [
        "#--------Less than and equal to  '=<'------\n",
        "num1=10\n",
        "num2=11\n",
        "print(num1<=num2)\n",
        "\n",
        "#--------greater than and equal to  '>='------\n",
        "\n",
        "num1=15\n",
        "num2=19\n",
        "print(num1>=num2)"
      ],
      "metadata": {
        "colab": {
          "base_uri": "https://localhost:8080/"
        },
        "id": "03oY8Hvvyjj5",
        "outputId": "2bd2db16-6836-4b00-a887-79c0d236267d"
      },
      "execution_count": null,
      "outputs": [
        {
          "output_type": "stream",
          "name": "stdout",
          "text": [
            "True\n",
            "False\n"
          ]
        }
      ]
    },
    {
      "cell_type": "code",
      "source": [
        "#----------------String  comparsion--------\n",
        "name1='Wasiq'\n",
        "nmae='khan'\n",
        "print(name1==name)\n",
        "\n",
        "nam1='Wasiq'\n",
        "name2='Khan'\n",
        "print(nam1!=name2)\n",
        "#=======String comaprsion can count string charater one by one\n",
        "name='Sir'\n",
        "name1='Usman'\n",
        "print(name<name1)"
      ],
      "metadata": {
        "colab": {
          "base_uri": "https://localhost:8080/"
        },
        "id": "rF6cJ_Jg0dGm",
        "outputId": "7a83f1a8-3d7a-4973-8f87-9463e932d1b7"
      },
      "execution_count": null,
      "outputs": [
        {
          "output_type": "stream",
          "name": "stdout",
          "text": [
            "False\n",
            "True\n",
            "False\n"
          ]
        }
      ]
    },
    {
      "cell_type": "code",
      "source": [
        "#-------------------------Stirng Formating with '%'----------------\n",
        "#--------%s is cosinderd String they aceept the String %d is consider integer value they are getting integer value --------\n",
        "\n",
        "namwe ='Wsaiq khan '\n",
        "age=24\n",
        "\n",
        "print('My name is %s and iam %d year old'%(namwe,age))\n",
        "\n",
        "\n",
        "#------------------------String Formating  '.formate()-----------------'\n",
        "\n",
        "print('My name is {},and iam {} year old'.format(namwe,age))\n",
        "\n"
      ],
      "metadata": {
        "colab": {
          "base_uri": "https://localhost:8080/",
          "height": 211
        },
        "id": "DEetFIkf3X0r",
        "outputId": "5f0945e9-ddbb-4638-a2fb-c8d104e84497"
      },
      "execution_count": null,
      "outputs": [
        {
          "output_type": "error",
          "ename": "TypeError",
          "evalue": "%d format: a real number is required, not str",
          "traceback": [
            "\u001b[0;31m---------------------------------------------------------------------------\u001b[0m",
            "\u001b[0;31mTypeError\u001b[0m                                 Traceback (most recent call last)",
            "\u001b[0;32m<ipython-input-19-3c02a616b469>\u001b[0m in \u001b[0;36m<cell line: 6>\u001b[0;34m()\u001b[0m\n\u001b[1;32m      4\u001b[0m \u001b[0mage\u001b[0m\u001b[0;34m=\u001b[0m\u001b[0;36m24\u001b[0m\u001b[0;34m\u001b[0m\u001b[0;34m\u001b[0m\u001b[0m\n\u001b[1;32m      5\u001b[0m \u001b[0;34m\u001b[0m\u001b[0m\n\u001b[0;32m----> 6\u001b[0;31m \u001b[0mprint\u001b[0m\u001b[0;34m(\u001b[0m\u001b[0;34m'My name is %d and iam %s year old'\u001b[0m\u001b[0;34m%\u001b[0m\u001b[0;34m(\u001b[0m\u001b[0mnamwe\u001b[0m\u001b[0;34m,\u001b[0m\u001b[0mage\u001b[0m\u001b[0;34m)\u001b[0m\u001b[0;34m)\u001b[0m\u001b[0;34m\u001b[0m\u001b[0;34m\u001b[0m\u001b[0m\n\u001b[0m\u001b[1;32m      7\u001b[0m \u001b[0;34m\u001b[0m\u001b[0m\n\u001b[1;32m      8\u001b[0m \u001b[0;34m\u001b[0m\u001b[0m\n",
            "\u001b[0;31mTypeError\u001b[0m: %d format: a real number is required, not str"
          ]
        }
      ]
    },
    {
      "cell_type": "code",
      "source": [
        "#=========Flaot formate specifier=============\n",
        "my_floatvalue=3.90874\n",
        "float_formating='Then value of float specifier is %.3f'%my_floatvalue\n",
        "print(float_formating)\n",
        "\n",
        "#==============Integer inn Hexadecimal formate Specifer================\n"
      ],
      "metadata": {
        "colab": {
          "base_uri": "https://localhost:8080/"
        },
        "id": "5VX5a-pf6qw0",
        "outputId": "658c9d1a-30e6-47cd-d869-2da1b866ee2b"
      },
      "execution_count": null,
      "outputs": [
        {
          "output_type": "stream",
          "name": "stdout",
          "text": [
            "Then value of float specifier is 3.909\n"
          ]
        }
      ]
    },
    {
      "cell_type": "code",
      "source": [
        "#----------------Escape Sequence --------------\n",
        "#==========Single slashes are used to identify if I need any string. If I need a colon, I can use a slash.---------------\n",
        "print('My name is Wasiq Khan .Iam in Studeied in \"\\'Air university\\'\"')\n",
        "print('\\\"Sir usman\\\" very nice teacher')\n",
        "\n",
        "\n",
        "#-----------------Double slash-------------------------\n",
        "#-------I we need a slash for any character -----------\n",
        "\n",
        "print(\"Python Programming in \\\\PIAIC\")\n",
        "\n",
        "#--------------------/n-----------------\n",
        "#----------SLsh n is used for new line ------------\n",
        "print ('Hello is basic of programing world .\\n All the programe concept are same ')\n",
        "\n",
        "#====================\\t====================\n",
        "#====Slash t is used to for one tab space between String and other\n",
        "print( 'python is most papoular \\t language ')\n",
        "\n",
        "#--------------------\\r-----------------------\n",
        "#-----Behind the slash r python complier are skip to read and Excecute\n",
        "print('Hello is basic  of programing world .\\rAll the programe concept are\\bsame')\n",
        "\n",
        "#===================Back space --------------------\n",
        "#-----------------Remove one character for backspace-------------\n",
        "print(\"Python Programming in a\\bPIAIC\")\n",
        "\n",
        "print('Welcome to the programing \\aworld')"
      ],
      "metadata": {
        "colab": {
          "base_uri": "https://localhost:8080/"
        },
        "id": "DNWQJnn5V3rE",
        "outputId": "7dcbfbaf-977b-4cf9-b3ae-fbdcde614be0"
      },
      "execution_count": null,
      "outputs": [
        {
          "output_type": "stream",
          "name": "stdout",
          "text": [
            "My name is Wasiq Khan .Iam in Studeied in \"'Air university'\"\n",
            "\"Sir usman\" very nice teacher\n",
            "Python Programming in \\PIAIC\n",
            "Hello is basic of programing world .\n",
            " All the programe concept are same \n",
            "python is most papoular \t language \n",
            "Hello is basic  of programing world .\rAll the programe concept are\bsame\n",
            "Python Programming in a\bPIAIC\n",
            "Welcome to the programing \u0007world\n"
          ]
        }
      ]
    },
    {
      "cell_type": "code",
      "source": [
        "#------------Coments----------------\n",
        "#-------This is a Single Line commets ------\n",
        "\n",
        "#------This is Multiline String  or Multiline commits------\n",
        "'''\n",
        "This is Multiline commets\n",
        "This is Multiline commets\n",
        "This is Multiline commets\n",
        "This is Multiline commets\n",
        "\n",
        "'''"
      ],
      "metadata": {
        "colab": {
          "base_uri": "https://localhost:8080/",
          "height": 35
        },
        "id": "bU8OgF3Fx6pe",
        "outputId": "5a8aff24-73d8-4758-de5d-0dd67d8d8577"
      },
      "execution_count": null,
      "outputs": [
        {
          "output_type": "execute_result",
          "data": {
            "text/plain": [
              "'\\nThis is Multiline commets\\nThis is Multiline commets\\nThis is Multiline commets\\nThis is Multiline commets\\n'"
            ],
            "application/vnd.google.colaboratory.intrinsic+json": {
              "type": "string"
            }
          },
          "metadata": {},
          "execution_count": 43
        }
      ]
    },
    {
      "cell_type": "code",
      "source": [
        "#--------Type Conversion------------\n",
        "integer_value =10\n",
        "flaoat_value=15.0\n",
        "print(integer_value,flaoat_value)\n",
        "\n",
        "\n",
        "#-----Covert with the help of type Coversion integer to float and float to intger\n",
        "integer_value=float(10)\n",
        "flaoat_value=int(15.0)\n",
        "print(integer_value,flaoat_value)\n",
        "\n",
        "\n",
        "#------Find the varible type ------\n",
        "x=10\n",
        "print(type(x))\n",
        "\n",
        "x='Wasiq'\n",
        "print(type(x))\n",
        "\n",
        "#------dir used provide if num is integer they provide All the method of integer if they are String All mrthod provide   -------\n",
        "num=10\n",
        "\n",
        "print(dir(num))"
      ],
      "metadata": {
        "colab": {
          "base_uri": "https://localhost:8080/"
        },
        "id": "k8Opcg0A2sQG",
        "outputId": "b31fce4d-0d1c-4ba3-b9cd-08af73c42d16"
      },
      "execution_count": null,
      "outputs": [
        {
          "output_type": "stream",
          "name": "stdout",
          "text": [
            "10 15.0\n",
            "10.0 15\n",
            "<class 'int'>\n",
            "<class 'str'>\n",
            "['__abs__', '__add__', '__and__', '__bool__', '__ceil__', '__class__', '__delattr__', '__dir__', '__divmod__', '__doc__', '__eq__', '__float__', '__floor__', '__floordiv__', '__format__', '__ge__', '__getattribute__', '__getnewargs__', '__gt__', '__hash__', '__index__', '__init__', '__init_subclass__', '__int__', '__invert__', '__le__', '__lshift__', '__lt__', '__mod__', '__mul__', '__ne__', '__neg__', '__new__', '__or__', '__pos__', '__pow__', '__radd__', '__rand__', '__rdivmod__', '__reduce__', '__reduce_ex__', '__repr__', '__rfloordiv__', '__rlshift__', '__rmod__', '__rmul__', '__ror__', '__round__', '__rpow__', '__rrshift__', '__rshift__', '__rsub__', '__rtruediv__', '__rxor__', '__setattr__', '__sizeof__', '__str__', '__sub__', '__subclasshook__', '__truediv__', '__trunc__', '__xor__', 'as_integer_ratio', 'bit_count', 'bit_length', 'conjugate', 'denominator', 'from_bytes', 'imag', 'numerator', 'real', 'to_bytes']\n"
          ]
        }
      ]
    }
  ]
}