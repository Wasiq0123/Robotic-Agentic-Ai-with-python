{
  "nbformat": 4,
  "nbformat_minor": 0,
  "metadata": {
    "colab": {
      "provenance": []
    },
    "kernelspec": {
      "name": "python3",
      "display_name": "Python 3"
    },
    "language_info": {
      "name": "python"
    }
  },
  "cells": [
    {
      "cell_type": "code",
      "execution_count": 4,
      "metadata": {
        "colab": {
          "base_uri": "https://localhost:8080/"
        },
        "id": "Ly1AAN5dqT2h",
        "outputId": "0180ba74-fcb1-42b4-9738-8cf6958e9d97"
      },
      "outputs": [
        {
          "output_type": "execute_result",
          "data": {
            "text/plain": [
              "24"
            ]
          },
          "metadata": {},
          "execution_count": 4
        }
      ],
      "source": [
        "#-------------Class---------------\n",
        "class Student:\n",
        "\n",
        "  #---These are the attribute of the class------\n",
        "  name='Wasiq'\n",
        "  age=24\n",
        "\n",
        "#---we are intilizing the classs it mean we craete the onject\n",
        "s1=Student()\n",
        "#-----with the help of object we can acess the Attribute of the class\n",
        "s1.name\n",
        "\n",
        "#----In this Section we are learn the How to make the class and How we intilized the class---\n",
        "#issue if i call the age they only call the age not naem"
      ]
    },
    {
      "cell_type": "code",
      "source": [
        "class Student:\n",
        "  def __init__(self):\n",
        "    #---This is automatomatically called when we are itizide the class or creating the object\n",
        "   print(\"This is the default constuctor of the class\")\n",
        "\n",
        "s1=Student()\n"
      ],
      "metadata": {
        "colab": {
          "base_uri": "https://localhost:8080/"
        },
        "id": "HQ3b0PvSAsJF",
        "outputId": "2f026cf1-f35d-4a2e-8b95-116574c0ef86"
      },
      "execution_count": 12,
      "outputs": [
        {
          "output_type": "stream",
          "name": "stdout",
          "text": [
            "This is the default constuctor of the class\n"
          ]
        }
      ]
    },
    {
      "cell_type": "code",
      "source": [
        "class Student:\n",
        "  name='wasiq'\n",
        "  def __init__(self,age,name):\n",
        "    self.age=age\n",
        "    self.name=name\n",
        "\n",
        "    print('')\n",
        "\n",
        "s1=Student(24,'Khan')\n",
        "print(s1.name)\n",
        "print(f'My name is{s1.name}and my age is {s1.age}')"
      ],
      "metadata": {
        "colab": {
          "base_uri": "https://localhost:8080/"
        },
        "id": "pX9BMx-TBJvk",
        "outputId": "24704550-b46e-4779-8f64-080d8ee7f534"
      },
      "execution_count": 21,
      "outputs": [
        {
          "output_type": "stream",
          "name": "stdout",
          "text": [
            "\n",
            "Khan\n",
            "My name isKhanand my age is 24\n"
          ]
        }
      ]
    },
    {
      "cell_type": "code",
      "source": [
        "class Student:\n",
        "  #---This is the Constructor of the class----\n",
        "  def __init__(self,name,age):\n",
        "    self.name=name\n",
        "    self.age=age\n",
        "\n",
        "s1=Student('Wasiq',24)\n",
        "print(s1.name)\n",
        "print(s1.age)\n"
      ],
      "metadata": {
        "colab": {
          "base_uri": "https://localhost:8080/"
        },
        "id": "4NhAxcSOr6Fs",
        "outputId": "e73483a6-f681-460d-c55c-fd9a6e7ee68a"
      },
      "execution_count": 11,
      "outputs": [
        {
          "output_type": "stream",
          "name": "stdout",
          "text": [
            "Wasiq\n",
            "24\n"
          ]
        }
      ]
    },
    {
      "cell_type": "code",
      "source": [
        "class Teacher:\n",
        "  name='Wasiq'\n",
        "  last='Khan'\n",
        "  def __init__(self):\n",
        "    print('This is the defaut constructor')\n",
        "\n",
        "  def get_data(self,first_name,last_name):\n",
        "    self.first_name=first_name\n",
        "    self.last_name=last_name\n",
        "    print(f'This is the method of .And My name is:{ self.first_name}}')\n",
        "\n",
        "t1=Teacher()\n",
        "t1.get_data('Wasiq','Khan')"
      ],
      "metadata": {
        "colab": {
          "base_uri": "https://localhost:8080/",
          "height": 106
        },
        "id": "pEl-obresRfk",
        "outputId": "112a1aab-fdbc-4ba9-bd97-a537dbc46f7d"
      },
      "execution_count": 27,
      "outputs": [
        {
          "output_type": "error",
          "ename": "SyntaxError",
          "evalue": "f-string: single '}' is not allowed (<ipython-input-27-b01ac424a640>, line 10)",
          "traceback": [
            "\u001b[0;36m  File \u001b[0;32m\"<ipython-input-27-b01ac424a640>\"\u001b[0;36m, line \u001b[0;32m10\u001b[0m\n\u001b[0;31m    print(f'This is the method of .And My name is:{ self.first_name+self.last_name}}')\u001b[0m\n\u001b[0m                                                                                     ^\u001b[0m\n\u001b[0;31mSyntaxError\u001b[0m\u001b[0;31m:\u001b[0m f-string: single '}' is not allowed\n"
          ]
        }
      ]
    },
    {
      "cell_type": "code",
      "source": [
        "class Student:\n",
        "  def __init__(self, name,age):\n",
        "    self.name=name\n",
        "    self.age=age\n",
        "\n",
        "  def func(self):\n",
        "    print('My name is '+self.name)\n",
        "\n",
        "c1=Student('Wasiq',24)\n",
        "c1.func()"
      ],
      "metadata": {
        "colab": {
          "base_uri": "https://localhost:8080/"
        },
        "id": "Dn5SosLRJEL_",
        "outputId": "e7a8f00f-56f7-458b-a54c-5489b6153b4e"
      },
      "execution_count": 35,
      "outputs": [
        {
          "output_type": "stream",
          "name": "stdout",
          "text": [
            "My name is Wasiq\n"
          ]
        }
      ]
    },
    {
      "cell_type": "code",
      "source": [
        "class Student:\n",
        "  # we can used xyz insted of self\n",
        "  def __init__(xyz, name,age):\n",
        "    xyz.name=name\n",
        "    xyz.age=age\n",
        "\n",
        "  def func(abc):\n",
        "    print('My name is '+abc.name)\n",
        "\n",
        "c1=Student('Wasiq',24)\n",
        "c1.func()"
      ],
      "metadata": {
        "colab": {
          "base_uri": "https://localhost:8080/"
        },
        "id": "zEI0q97PNPHK",
        "outputId": "6e54101a-59ca-49af-dacf-5408d9a7d56e"
      },
      "execution_count": 36,
      "outputs": [
        {
          "output_type": "stream",
          "name": "stdout",
          "text": [
            "My name is Wasiq\n"
          ]
        }
      ]
    },
    {
      "cell_type": "code",
      "source": [
        "class Cyber:\n",
        "  def __init__(self,name,age):\n",
        "    self.name=name\n",
        "    self.age=age\n",
        "  def func(self):\n",
        "      print('My name is '+self.name)\n",
        "      print('My age is '+str(self.age))\n",
        "\n",
        "c1=Cyber('Wasiq',24)\n",
        "\n",
        "c1.func()\n",
        "\n"
      ],
      "metadata": {
        "colab": {
          "base_uri": "https://localhost:8080/",
          "height": 332
        },
        "id": "cZIb3hdjN0-E",
        "outputId": "c9b35008-b248-4154-d2ef-f1fc9877a59b"
      },
      "execution_count": 47,
      "outputs": [
        {
          "output_type": "stream",
          "name": "stdout",
          "text": [
            "My name is Wasiq\n"
          ]
        },
        {
          "output_type": "error",
          "ename": "AttributeError",
          "evalue": "'Cyber' object has no attribute 'age'",
          "traceback": [
            "\u001b[0;31m---------------------------------------------------------------------------\u001b[0m",
            "\u001b[0;31mAttributeError\u001b[0m                            Traceback (most recent call last)",
            "\u001b[0;32m<ipython-input-47-6060bb696931>\u001b[0m in \u001b[0;36m<cell line: 0>\u001b[0;34m()\u001b[0m\n\u001b[1;32m      9\u001b[0m \u001b[0mc1\u001b[0m\u001b[0;34m=\u001b[0m\u001b[0mCyber\u001b[0m\u001b[0;34m(\u001b[0m\u001b[0;34m'Wasiq'\u001b[0m\u001b[0;34m,\u001b[0m\u001b[0;36m24\u001b[0m\u001b[0;34m)\u001b[0m\u001b[0;34m\u001b[0m\u001b[0;34m\u001b[0m\u001b[0m\n\u001b[1;32m     10\u001b[0m \u001b[0;32mdel\u001b[0m \u001b[0mc1\u001b[0m\u001b[0;34m.\u001b[0m\u001b[0mage\u001b[0m\u001b[0;34m\u001b[0m\u001b[0;34m\u001b[0m\u001b[0m\n\u001b[0;32m---> 11\u001b[0;31m \u001b[0mc1\u001b[0m\u001b[0;34m.\u001b[0m\u001b[0mfunc\u001b[0m\u001b[0;34m(\u001b[0m\u001b[0;34m)\u001b[0m\u001b[0;34m\u001b[0m\u001b[0;34m\u001b[0m\u001b[0m\n\u001b[0m\u001b[1;32m     12\u001b[0m \u001b[0;34m\u001b[0m\u001b[0m\n",
            "\u001b[0;32m<ipython-input-47-6060bb696931>\u001b[0m in \u001b[0;36mfunc\u001b[0;34m(self)\u001b[0m\n\u001b[1;32m      5\u001b[0m   \u001b[0;32mdef\u001b[0m \u001b[0mfunc\u001b[0m\u001b[0;34m(\u001b[0m\u001b[0mself\u001b[0m\u001b[0;34m)\u001b[0m\u001b[0;34m:\u001b[0m\u001b[0;34m\u001b[0m\u001b[0;34m\u001b[0m\u001b[0m\n\u001b[1;32m      6\u001b[0m       \u001b[0mprint\u001b[0m\u001b[0;34m(\u001b[0m\u001b[0;34m'My name is '\u001b[0m\u001b[0;34m+\u001b[0m\u001b[0mself\u001b[0m\u001b[0;34m.\u001b[0m\u001b[0mname\u001b[0m\u001b[0;34m)\u001b[0m\u001b[0;34m\u001b[0m\u001b[0;34m\u001b[0m\u001b[0m\n\u001b[0;32m----> 7\u001b[0;31m       \u001b[0mprint\u001b[0m\u001b[0;34m(\u001b[0m\u001b[0;34m'My age is '\u001b[0m\u001b[0;34m+\u001b[0m\u001b[0mstr\u001b[0m\u001b[0;34m(\u001b[0m\u001b[0mself\u001b[0m\u001b[0;34m.\u001b[0m\u001b[0mage\u001b[0m\u001b[0;34m)\u001b[0m\u001b[0;34m)\u001b[0m\u001b[0;34m\u001b[0m\u001b[0;34m\u001b[0m\u001b[0m\n\u001b[0m\u001b[1;32m      8\u001b[0m \u001b[0;34m\u001b[0m\u001b[0m\n\u001b[1;32m      9\u001b[0m \u001b[0mc1\u001b[0m\u001b[0;34m=\u001b[0m\u001b[0mCyber\u001b[0m\u001b[0;34m(\u001b[0m\u001b[0;34m'Wasiq'\u001b[0m\u001b[0;34m,\u001b[0m\u001b[0;36m24\u001b[0m\u001b[0;34m)\u001b[0m\u001b[0;34m\u001b[0m\u001b[0;34m\u001b[0m\u001b[0m\n",
            "\u001b[0;31mAttributeError\u001b[0m: 'Cyber' object has no attribute 'age'"
          ]
        }
      ]
    }
  ]
}